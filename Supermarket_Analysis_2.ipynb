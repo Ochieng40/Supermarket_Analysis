{
 "cells": [
  {
   "cell_type": "markdown",
   "metadata": {
    "heading_collapsed": true
   },
   "source": [
    "# 1.0 Loading packages and importing Data"
   ]
  },
  {
   "cell_type": "code",
   "execution_count": 5,
   "metadata": {
    "hidden": true
   },
   "outputs": [
    {
     "name": "stdout",
     "output_type": "stream",
     "text": [
      "supermarkt_sales.csv\n",
      "supermarkt_sales_dirty.csv\n"
     ]
    }
   ],
   "source": [
    "import os\n",
    "\n",
    "# Specify the path of the folder you want to work with\n",
    "folder_path = \"C:\\\\Users\\\\DENIS OCHIENG'\\\\Desktop\\\\Training\\\\Python_2\"\n",
    "\n",
    "# Create the folder if it doesn't already exist\n",
    "if not os.path.exists(folder_path):\n",
    "    os.makedirs(folder_path)\n",
    "\n",
    "# Change the current working directory to the specified folder\n",
    "os.chdir(folder_path)\n",
    "\n",
    "# Now you can perform operations on files in this folder\n",
    "# For example, you can list all the files in the folder\n",
    "for filename in os.listdir():\n",
    "    print(filename)"
   ]
  },
  {
   "cell_type": "markdown",
   "metadata": {
    "hidden": true
   },
   "source": [
    "* Notes segment\n",
    "A further explanation of the above code\n",
    "\n",
    "import os: This line imports the built-in Python os module, which provides a way to interact with the file system and operating system.\n",
    "\n",
    "folder_path = \"C:\\\\Users\\\\DENIS OCHIENG'\\\\Desktop\\\\Training\\\\Python_2\": This line sets the variable folder_path to the string value of the file path you want to work with. In this case, it's set to \"C:\\\\Users\\\\DENIS OCHIENG'\\\\Desktop\\\\Training\\\\Python_2\", which is a path to a folder on the desktop.\n",
    "\n",
    "if not os.path.exists(folder_path):: This line checks if the folder specified by folder_path exists. If it doesn't exist, the code block following this line is executed.\n",
    "\n",
    "os.makedirs(folder_path): This line creates the folder specified by folder_path if it doesn't already exist. The os.makedirs() function creates any missing directories in the path, so you don't need to create each directory separately.\n",
    "\n",
    "os.chdir(folder_path): This line changes the current working directory to the folder specified by folder_path. This means that any file operations you perform after this line will be relative to this folder.\n",
    "\n",
    "for filename in os.listdir():: This line uses the os.listdir() function to list all the files in the current working directory (which is now the folder specified by folder_path). This function returns a list of all the files in the directory.\n",
    "\n",
    "print(filename): This line prints each filename in the list of files returned by os.listdir(). In other words, it lists all the files in the specified folder.\n",
    "\n",
    "So, overall, this code creates a folder if it doesn't exist, sets it as the current working directory, and then lists all the files in that folder."
   ]
  },
  {
   "cell_type": "code",
   "execution_count": 6,
   "metadata": {
    "hidden": true
   },
   "outputs": [],
   "source": [
    "# Import packages\n",
    "import pandas as pd\n",
    "import numpy as np"
   ]
  },
  {
   "cell_type": "code",
   "execution_count": 8,
   "metadata": {
    "hidden": true
   },
   "outputs": [],
   "source": [
    "# Call your dataFrame to Juypter Notebook\n",
    "df = pd.read_csv('supermarkt_sales_dirty.csv')"
   ]
  },
  {
   "cell_type": "code",
   "execution_count": null,
   "metadata": {
    "hidden": true
   },
   "outputs": [],
   "source": [
    "# Another way of uploading files\n",
    "df_clean = pd.read_csv(\"C:\\\\Users\\\\DENIS OCHIENG'\\\\Desktop\\\\Training\\\\Python_2\")"
   ]
  },
  {
   "cell_type": "code",
   "execution_count": 16,
   "metadata": {
    "hidden": true,
    "scrolled": true
   },
   "outputs": [
    {
     "data": {
      "text/html": [
       "<div>\n",
       "<style scoped>\n",
       "    .dataframe tbody tr th:only-of-type {\n",
       "        vertical-align: middle;\n",
       "    }\n",
       "\n",
       "    .dataframe tbody tr th {\n",
       "        vertical-align: top;\n",
       "    }\n",
       "\n",
       "    .dataframe thead th {\n",
       "        text-align: right;\n",
       "    }\n",
       "</style>\n",
       "<table border=\"1\" class=\"dataframe\">\n",
       "  <thead>\n",
       "    <tr style=\"text-align: right;\">\n",
       "      <th></th>\n",
       "      <th>Invoice ID</th>\n",
       "      <th>Branch</th>\n",
       "      <th>City</th>\n",
       "      <th>Customer_type</th>\n",
       "      <th>Gender</th>\n",
       "      <th>Product_line</th>\n",
       "      <th>Unit price</th>\n",
       "      <th>Quantity</th>\n",
       "      <th>Tax 5%</th>\n",
       "      <th>Total</th>\n",
       "      <th>Date</th>\n",
       "      <th>Time</th>\n",
       "      <th>Payment</th>\n",
       "      <th>cogs</th>\n",
       "      <th>gross margin percentage</th>\n",
       "      <th>gross income</th>\n",
       "      <th>Rating</th>\n",
       "    </tr>\n",
       "  </thead>\n",
       "  <tbody>\n",
       "    <tr>\n",
       "      <th>0</th>\n",
       "      <td>750-67-8428</td>\n",
       "      <td>A</td>\n",
       "      <td>Yangon</td>\n",
       "      <td>Member</td>\n",
       "      <td>Female</td>\n",
       "      <td>Health and beauty</td>\n",
       "      <td>74.69</td>\n",
       "      <td>7.0</td>\n",
       "      <td>26.1415</td>\n",
       "      <td>548.9715</td>\n",
       "      <td>05/01/2021</td>\n",
       "      <td>13:08</td>\n",
       "      <td>Ewallet</td>\n",
       "      <td>522.83</td>\n",
       "      <td>4.761905</td>\n",
       "      <td>26.1415</td>\n",
       "      <td>9.1</td>\n",
       "    </tr>\n",
       "    <tr>\n",
       "      <th>1</th>\n",
       "      <td>226-31-3081</td>\n",
       "      <td>C</td>\n",
       "      <td>Naypyitaw</td>\n",
       "      <td>Normal</td>\n",
       "      <td>Female</td>\n",
       "      <td>Electronic accessories</td>\n",
       "      <td>15.28</td>\n",
       "      <td>5.0</td>\n",
       "      <td>3.8200</td>\n",
       "      <td>80.2200</td>\n",
       "      <td>08/03/2021</td>\n",
       "      <td>10:29</td>\n",
       "      <td>Cash</td>\n",
       "      <td>76.40</td>\n",
       "      <td>4.761905</td>\n",
       "      <td>3.8200</td>\n",
       "      <td>9.6</td>\n",
       "    </tr>\n",
       "  </tbody>\n",
       "</table>\n",
       "</div>"
      ],
      "text/plain": [
       "    Invoice ID Branch       City Customer_type  Gender  \\\n",
       "0  750-67-8428      A     Yangon        Member  Female   \n",
       "1  226-31-3081      C  Naypyitaw        Normal  Female   \n",
       "\n",
       "             Product_line  Unit price  Quantity   Tax 5%     Total  \\\n",
       "0       Health and beauty       74.69       7.0  26.1415  548.9715   \n",
       "1  Electronic accessories       15.28       5.0   3.8200   80.2200   \n",
       "\n",
       "         Date   Time  Payment    cogs  gross margin percentage  gross income  \\\n",
       "0  05/01/2021  13:08  Ewallet  522.83                 4.761905       26.1415   \n",
       "1  08/03/2021  10:29     Cash   76.40                 4.761905        3.8200   \n",
       "\n",
       "   Rating  \n",
       "0     9.1  \n",
       "1     9.6  "
      ]
     },
     "execution_count": 16,
     "metadata": {},
     "output_type": "execute_result"
    }
   ],
   "source": [
    "df.head(2)"
   ]
  },
  {
   "cell_type": "markdown",
   "metadata": {
    "heading_collapsed": true
   },
   "source": [
    "# 2.0 Data Preparation & Cleaning"
   ]
  },
  {
   "cell_type": "markdown",
   "metadata": {
    "heading_collapsed": true,
    "hidden": true
   },
   "source": [
    "## a. Null values - Imputation Method"
   ]
  },
  {
   "cell_type": "code",
   "execution_count": 44,
   "metadata": {
    "hidden": true
   },
   "outputs": [
    {
     "data": {
      "text/plain": [
       "Invoice ID                 133\n",
       "Branch                      33\n",
       "City                        33\n",
       "Customer_type               33\n",
       "Gender                      33\n",
       "Product_line                33\n",
       "Unit price                  33\n",
       "Quantity                    33\n",
       "Tax 5%                      33\n",
       "Total                       33\n",
       "Date                        33\n",
       "Time                        33\n",
       "Payment                    199\n",
       "cogs                        33\n",
       "gross margin percentage     33\n",
       "gross income                75\n",
       "Rating                      33\n",
       "dtype: int64"
      ]
     },
     "execution_count": 44,
     "metadata": {},
     "output_type": "execute_result"
    }
   ],
   "source": [
    "# Checking for total number of null values in the dataset\n",
    "# so basically isnull function checks all null values while the sum() functions\n",
    "# sums the total null values for each variable in the dataset.\n",
    "\n",
    "df.isnull().sum()\n"
   ]
  },
  {
   "cell_type": "markdown",
   "metadata": {
    "hidden": true
   },
   "source": [
    "Notes segment\n",
    "In this dataset in the column 'Product_line', the entry for payment type was not keyed in for those who selected 'Sports and travel' as their product_line. If we drop null values for the entire dataset we will lose the \n",
    "information on Sprots and travel.\n",
    "So in this case scenario we drop the null values but based on the column product-line."
   ]
  },
  {
   "cell_type": "code",
   "execution_count": 45,
   "metadata": {
    "hidden": true,
    "scrolled": false
   },
   "outputs": [
    {
     "data": {
      "text/plain": [
       "Invoice ID                 900\n",
       "Branch                       3\n",
       "City                         3\n",
       "Customer_type                2\n",
       "Gender                       4\n",
       "Product_line                 9\n",
       "Unit price                 943\n",
       "Quantity                    10\n",
       "Tax 5%                     990\n",
       "Total                      990\n",
       "Date                        89\n",
       "Time                       506\n",
       "Payment                      3\n",
       "cogs                       990\n",
       "gross margin percentage      1\n",
       "gross income               949\n",
       "Rating                      61\n",
       "dtype: int64"
      ]
     },
     "execution_count": 45,
     "metadata": {},
     "output_type": "execute_result"
    }
   ],
   "source": [
    "# This function check for all unique elements in each variable\n",
    "df.nunique()"
   ]
  },
  {
   "cell_type": "code",
   "execution_count": 48,
   "metadata": {
    "hidden": true
   },
   "outputs": [
    {
     "data": {
      "text/plain": [
       "array([nan], dtype=object)"
      ]
     },
     "execution_count": 48,
     "metadata": {},
     "output_type": "execute_result"
    }
   ],
   "source": [
    "# We want to check if our unique identifier column 'INVOICE ID' is indeed unique\n",
    "\n",
    "duplicates = df[df.duplicated(subset=['Invoice ID'], keep=False)]\n",
    "duplicated_names = duplicates['Invoice ID'].unique()\n",
    "duplicated_names"
   ]
  },
  {
   "cell_type": "code",
   "execution_count": 9,
   "metadata": {
    "hidden": true
   },
   "outputs": [
    {
     "data": {
      "text/plain": [
       "Invoice ID                   0\n",
       "Branch                       0\n",
       "City                         0\n",
       "Customer_type                0\n",
       "Gender                       0\n",
       "Product_line                 0\n",
       "Unit price                   0\n",
       "Quantity                     0\n",
       "Tax 5%                       0\n",
       "Total                        0\n",
       "Date                         0\n",
       "Time                         0\n",
       "Payment                    157\n",
       "cogs                         0\n",
       "gross margin percentage      0\n",
       "gross income                42\n",
       "Rating                       0\n",
       "dtype: int64"
      ]
     },
     "execution_count": 9,
     "metadata": {},
     "output_type": "execute_result"
    }
   ],
   "source": [
    "# In this case we want to drop null values based on our unique identifier\n",
    "# drop rows that are entirely null\n",
    "df_cleaned = df.dropna(how='all')\n",
    "\n",
    "# drop rows with null values in the 'Invoice ID' column\n",
    "df_cleaned = df_cleaned.dropna(subset=['Invoice ID'])\n",
    "\n",
    "# display the cleaned dataframe\n",
    "df_cleaned.isnull().sum()"
   ]
  },
  {
   "cell_type": "markdown",
   "metadata": {
    "hidden": true
   },
   "source": [
    "Notes segment\n",
    "The code above first drops rows that are entirely null using dropna with how='all'. Then, it drops rows with null values in the 'Invoice ID' column by passing the column name as a list to the subset parameter of dropna.\n",
    "\n",
    "It is important to note that we have given our clean dataFrame a new name that is 'df_cleaned' this is what we will now use in the analysis as it consist of cleaned dataset that is free from the null values that are not needed"
   ]
  },
  {
   "cell_type": "markdown",
   "metadata": {
    "hidden": true
   },
   "source": [
    "Notes segment\n",
    "The formual in this markdown cell can be used in an instance you want to keep\n",
    "the entire null values for a given column while dropping for other columns\n",
    "\n",
    "#drop rows with all null values\n",
    "df_cleaned = df.dropna(how='all')\n",
    "\n",
    "#drop rows with null values in all columns except 'Payment'\n",
    "df_cleaned = df_cleaned.dropna(subset=[col for col in df_cleaned.columns if col != 'Payment'])\n",
    "\n",
    "#display the cleaned dataframe\n",
    "df_cleaned.isnull().sum()"
   ]
  },
  {
   "cell_type": "markdown",
   "metadata": {
    "hidden": true
   },
   "source": [
    "Notes segment\n",
    "In summary, if we were to drop null values for the entire dataset without any specification we normally use the function .dropna() and we put with the df or the name we have given our dataFrame eg in our case df.dropna()\n",
    "The problem with this is that it drops all rows that have any null or missing values and in some cases you are likely to drop rows that contained null values but were still important."
   ]
  },
  {
   "cell_type": "markdown",
   "metadata": {
    "hidden": true
   },
   "source": [
    "## b. Null values - Replace by Mean Method"
   ]
  },
  {
   "cell_type": "code",
   "execution_count": 70,
   "metadata": {
    "hidden": true,
    "scrolled": true
   },
   "outputs": [
    {
     "data": {
      "text/plain": [
       "Invoice ID                   0\n",
       "Branch                       0\n",
       "City                         0\n",
       "Customer_type                0\n",
       "Gender                       0\n",
       "Product_line                 0\n",
       "Unit price                   0\n",
       "Quantity                     0\n",
       "Tax 5%                       0\n",
       "Total                        0\n",
       "Date                         0\n",
       "Time                         0\n",
       "Payment                    157\n",
       "cogs                         0\n",
       "gross margin percentage      0\n",
       "gross income                 0\n",
       "Rating                       0\n",
       "dtype: int64"
      ]
     },
     "execution_count": 70,
     "metadata": {},
     "output_type": "execute_result"
    }
   ],
   "source": [
    "# When you run the null values you notice there are null values in the\n",
    "# grosss income column which might affect our results.\n",
    "# When a dataset is more than 250 we are allowed to remove null but in a case\n",
    "# the dataset is low than 250 we replace the null values.\n",
    "# In this case we want to replace the null values with the mean of the given column\n",
    "\n",
    "# calculate the mean of the 'gross income' column\n",
    "mean_gross_income = df_cleaned['gross income'].mean()\n",
    "\n",
    "# replace missing values with the mean\n",
    "df_cleaned['gross income'].fillna(mean_gross_income, inplace=True)\n",
    "\n",
    "# First let check again the number of missing values\n",
    "df_cleaned.isnull().sum()"
   ]
  },
  {
   "cell_type": "markdown",
   "metadata": {
    "hidden": true
   },
   "source": [
    "* Notes segment\n",
    "In the code above, we first calculate the mean of the 'gross income' column using the mean method. Then, we use the fillna function to replace missing values in the 'gross income' column with the mean using the inplace=True parameter to modify the dataframe in place. Finally, we check the total number of null values in the column 'gross income' to confirm if they are replaced by the mean value."
   ]
  },
  {
   "cell_type": "markdown",
   "metadata": {
    "hidden": true
   },
   "source": [
    "## c. Dealing with typos and errors"
   ]
  },
  {
   "cell_type": "code",
   "execution_count": 71,
   "metadata": {
    "hidden": true,
    "scrolled": true
   },
   "outputs": [
    {
     "name": "stdout",
     "output_type": "stream",
     "text": [
      "Fashion accessories       164\n",
      "Sports and travel         157\n",
      "Food and beverages        151\n",
      "Electronic accessories    149\n",
      "Home and lifestyle        138\n",
      "Health and beauty         137\n",
      "beverages                   2\n",
      "Food                        1\n",
      "Food and                    1\n",
      "Name: Product_line, dtype: int64\n"
     ]
    }
   ],
   "source": [
    "# The first step with typos is to run frequency and check if there are\n",
    "# any element that are not needed for analysis\n",
    "# Since we will analyze 'Product_line' lets check if it contains any typo\n",
    "print(df_cleaned['Product_line'].value_counts())\n"
   ]
  },
  {
   "cell_type": "markdown",
   "metadata": {
    "hidden": true
   },
   "source": [
    "* Notes segment\n",
    "From the above code we can observe typos in 'beverages', 'food', and 'food and'.\n",
    "So we want to replace the typos with the correct name which in the case is 'Food and beverages'"
   ]
  },
  {
   "cell_type": "code",
   "execution_count": 41,
   "metadata": {
    "hidden": true,
    "scrolled": true
   },
   "outputs": [
    {
     "name": "stdout",
     "output_type": "stream",
     "text": [
      "Fashion accessories       164\n",
      "Sports and travel         157\n",
      "Food and beverages        155\n",
      "Electronic accessories    149\n",
      "Home and lifestyle        138\n",
      "Health and beauty         137\n",
      "Name: Product_line, dtype: int64\n"
     ]
    }
   ],
   "source": [
    "\n",
    "# Correct wrong entries\n",
    "# In the code below we replace wrong entries with the correct entries\n",
    "\n",
    "df_cleaned['Product_line'] = df_cleaned['Product_line'].replace({'Food': 'Food and beverages',\n",
    "                                                                 'Food and': 'Food and beverages', \n",
    "                                                                 'beverages': 'Food and beverages'})\n",
    "\n",
    "\n",
    "# Now we run again the frequency to observe if the wrong entry is still present\n",
    "\n",
    "print(df_cleaned['Product_line'].value_counts())"
   ]
  },
  {
   "cell_type": "code",
   "execution_count": 73,
   "metadata": {
    "hidden": true
   },
   "outputs": [
    {
     "name": "stdout",
     "output_type": "stream",
     "text": [
      "Male      454\n",
      "Female    444\n",
      "Mal         1\n",
      "Femal       1\n",
      "Name: Gender, dtype: int64\n"
     ]
    }
   ],
   "source": [
    "print(df_cleaned['Gender'].value_counts())"
   ]
  },
  {
   "cell_type": "code",
   "execution_count": 74,
   "metadata": {
    "hidden": true
   },
   "outputs": [
    {
     "name": "stdout",
     "output_type": "stream",
     "text": [
      "Male      455\n",
      "Female    445\n",
      "Name: Gender, dtype: int64\n"
     ]
    }
   ],
   "source": [
    "# From the code above we observe two typos; 'Femal' and 'Mal'\n",
    "\n",
    "df_cleaned['Gender'] = df_cleaned['Gender'].replace({'Mal': 'Male',\n",
    "                                                                'Femal': 'Female'})\n",
    "\n",
    "\n",
    "# The now run to see if the changes have been implemented\n",
    "print(df_cleaned['Gender'].value_counts())"
   ]
  },
  {
   "cell_type": "markdown",
   "metadata": {
    "heading_collapsed": true,
    "hidden": true
   },
   "source": [
    "## d. Finding and Dealing with Outliers"
   ]
  },
  {
   "cell_type": "markdown",
   "metadata": {
    "hidden": true
   },
   "source": [
    "* Notes segment\n",
    "There are several ways to look for outliers in a given dataset in Jupyter notebook. Here are some common methods:\n",
    "\n",
    "Boxplots: A boxplot is a standardized way of displaying the distribution of data based on the five-number summary (minimum, first quartile, median, third quartile, and maximum). Outliers are defined as points beyond the whiskers of the boxplot. You can use the boxplot() function in the matplotlib library to create a boxplot for a given variable.\n",
    "\n",
    "Histograms: A histogram is a graphical representation of the distribution of data. By examining the shape of the histogram, you can identify whether there are outliers or not. If there is a long tail to one side or if the distribution is skewed, it may indicate the presence of outliers. You can use the hist() function in the matplotlib library to create a histogram for a given variable.\n",
    "\n",
    "Scatter plots: Scatter plots can be used to identify outliers in bivariate data. Outliers are the points that fall far away from the majority of the data points. You can use the scatter() function in the matplotlib library to create a scatter plot for two variables.\n",
    "\n",
    "Z-scores: A z-score measures how many standard deviations a data point is from the mean. A z-score greater than 3 or less than -3 is typically considered an outlier. You can use the zscore() function in the scipy.stats library to calculate the z-scores for a given variable.\n",
    "\n",
    "Interquartile range (IQR): The IQR is the difference between the first quartile and the third quartile. Any data point that falls more than 1.5 times the IQR below the first quartile or above the third quartile is considered an outlier. You can use the quantile() function in pandas to calculate the quartiles and the IQR for a given variable, and then use boolean indexing to identify the outliers."
   ]
  },
  {
   "cell_type": "code",
   "execution_count": 81,
   "metadata": {
    "hidden": true,
    "scrolled": true
   },
   "outputs": [
    {
     "name": "stdout",
     "output_type": "stream",
     "text": [
      "174     47.790\n",
      "175     49.490\n",
      "371     49.650\n",
      "378     47.720\n",
      "455     48.605\n",
      "590     49.260\n",
      "732     48.750\n",
      "825     48.685\n",
      "1029    48.690\n",
      "Name: gross income, dtype: float64\n"
     ]
    },
    {
     "name": "stderr",
     "output_type": "stream",
     "text": [
      "C:\\Program Files\\ArcGIS\\Pro\\bin\\Python\\envs\\arcgispro-py3\\lib\\site-packages\\ipykernel_launcher.py:9: UserWarning: Boolean Series key will be reindexed to match DataFrame index.\n",
      "  if __name__ == '__main__':\n"
     ]
    }
   ],
   "source": [
    "# We are looking for outliers in the column 'gross income'\n",
    "\n",
    "# calculate the quartiles and IQR\n",
    "Q1 = df_cleaned['gross income'].quantile(0.25)\n",
    "Q3 = df_cleaned['gross income'].quantile(0.75)\n",
    "IQR = Q3 - Q1\n",
    "\n",
    "# identify the outliers\n",
    "outliers = df_cleaned[(df['gross income'] < Q1 - 1.5*IQR) | (df_cleaned['gross income'] > Q3 + 1.5*IQR)]\n",
    "\n",
    "print(outliers['gross income'])"
   ]
  },
  {
   "cell_type": "code",
   "execution_count": 79,
   "metadata": {
    "hidden": true
   },
   "outputs": [
    {
     "data": {
      "text/plain": [
       "15.290526223776224"
      ]
     },
     "execution_count": 79,
     "metadata": {},
     "output_type": "execute_result"
    }
   ],
   "source": [
    "# Confirm by comparing the outlier to the mean\n",
    "\n",
    "df_cleaned['gross income'].mean()"
   ]
  },
  {
   "cell_type": "code",
   "execution_count": 83,
   "metadata": {
    "hidden": true
   },
   "outputs": [
    {
     "data": {
      "image/png": "[encoded data removed]",
      "text/plain": [
       "<Figure size 432x288 with 1 Axes>"
      ]
     },
     "metadata": {
      "needs_background": "light"
     },
     "output_type": "display_data"
    }
   ],
   "source": [
    "# The scatter plot method\n",
    "\n",
    "import matplotlib.pyplot as plt\n",
    "\n",
    "# create a scatter plot\n",
    "plt.scatter(df_cleaned['Unit price'], df_cleaned['gross income'])\n",
    "\n",
    "# set the axis labels and title\n",
    "plt.xlabel('Unit price')\n",
    "plt.ylabel('Gross income')\n",
    "plt.title('Scatter plot of Unit price vs Gross income')\n",
    "\n",
    "# show the plot\n",
    "plt.show()"
   ]
  },
  {
   "cell_type": "markdown",
   "metadata": {
    "hidden": true
   },
   "source": [
    "* Notes Segment\n",
    "How to Handle the Outliers\n",
    "\n",
    "What to do with the outliers depends on the context and the purpose of the analysis. Here are a few common approaches:\n",
    "\n",
    "Remove them: In some cases, it may be appropriate to remove the outliers from the dataset, especially if they are errors or anomalies that are unlikely to represent the underlying population.\n",
    "\n",
    "Keep them: In other cases, it may be important to keep the outliers in the dataset, especially if they represent real and meaningful observations. Outliers can sometimes provide valuable insights into the underlying data generating process.\n",
    "\n",
    "Transform them: Sometimes, it may be appropriate to transform the outliers, for example by capping them at a certain threshold, or by using a transformation such as a log transformation to make the distribution more normal.\n",
    "\n",
    "Investigate them: It may also be important to investigate the outliers further to determine if they are genuine or erroneous, and to understand why they are occurring. This can involve looking at the data more closely, consulting with domain experts, or conducting additional analysis."
   ]
  },
  {
   "cell_type": "code",
   "execution_count": 2,
   "metadata": {
    "hidden": true
   },
   "outputs": [],
   "source": [
    "# Import packages for the graph to use in histogram\n",
    "# Normally the two packages or libraries are usually\n",
    "#used in almost all graphs and visualization\n",
    "\n",
    "import seaborn as sns\n",
    "import matplotlib.pyplot as plt\n"
   ]
  },
  {
   "cell_type": "code",
   "execution_count": 28,
   "metadata": {
    "hidden": true,
    "scrolled": true
   },
   "outputs": [
    {
     "data": {
      "image/png": "[encoded data removed]",
      "text/plain": [
       "<Figure size 576x432 with 1 Axes>"
      ]
     },
     "metadata": {
      "needs_background": "light"
     },
     "output_type": "display_data"
    }
   ],
   "source": [
    "# create a figure with size (8, 6)\n",
    "plt.figure(figsize=(8, 6))\n",
    "\n",
    "# create a histogram with seaborn\n",
    "sns.histplot(data=df_cleaned, x=\"gross income\", kde=True, bins=30)\n",
    "\n",
    "# get the quartiles and IQR\n",
    "q1 = df[\"gross income\"].quantile(0.25)\n",
    "q3 = df[\"gross income\"].quantile(0.75)\n",
    "iqr = q3 - q1\n",
    "\n",
    "# calculate the outlier bounds\n",
    "lower_bound = q1 - 1.5 * iqr\n",
    "upper_bound = q3 + 1.5 * iqr\n",
    "\n",
    "# add vertical lines for the lower and upper bounds\n",
    "plt.axvline(x=lower_bound, color=\"red\", linestyle=\"--\", label=\"Lower Bound\")\n",
    "plt.axvline(x=upper_bound, color=\"red\", linestyle=\"--\", label=\"Upper Bound\")\n",
    "\n",
    "# set the title and labels\n",
    "plt.title(\"Histogram of Gross Income with Outliers\", fontsize=16)\n",
    "plt.xlabel(\"Gross Income\", fontsize=14)\n",
    "plt.ylabel(\"Frequency\", fontsize=14)\n",
    "\n",
    "# add legend\n",
    "plt.legend()\n",
    "\n",
    "# show the plot\n",
    "plt.show()"
   ]
  },
  {
   "cell_type": "markdown",
   "metadata": {
    "hidden": true
   },
   "source": [
    "From the above code kde stands for kernel density estimation. When kde=True, a probability density curve will be plotted on top of the histogram, which is a smooth estimation of the underlying probability density function.\n",
    "\n",
    "In other words, if kde=True, the histogram will show the distribution of the data, and the line will show the estimated probability density function of the data. This can be useful to get a better understanding of the shape of the distribution and can help to identify possible outliers or anomalies in the data.\n",
    "\n",
    "The function for the histogram is sns.histplot()\n",
    "\n",
    "The function plt.axvlin() is for the vertical lines you see.\n",
    "\n",
    "Outliers will always fall outside the vertical lines.\n",
    "\n",
    "The bins are a way to group data into intervals or ranges. Each bin represents a range of values along the x-axis of the histogram. The height of the bar over each bin represents the frequency or count of observations that fall within that range of values.\n",
    "\n",
    "The number of bins is an important parameter to consider when creating a histogram. Too few bins may obscure important features of the data, while too many bins may overemphasize noise in the data. The number of bins can be adjusted depending on the size of the dataset and the nature of the data.\n"
   ]
  },
  {
   "cell_type": "markdown",
   "metadata": {},
   "source": [
    "# 3.0 Data Analysis & Presentation"
   ]
  },
  {
   "cell_type": "markdown",
   "metadata": {
    "heading_collapsed": true
   },
   "source": [
    "## I. Working with one Variable"
   ]
  },
  {
   "cell_type": "markdown",
   "metadata": {
    "heading_collapsed": true,
    "hidden": true
   },
   "source": [
    "### a. Frequency Tables"
   ]
  },
  {
   "cell_type": "code",
   "execution_count": 22,
   "metadata": {
    "hidden": true,
    "scrolled": true
   },
   "outputs": [
    {
     "data": {
      "text/html": [
       "<style  type=\"text/css\" >\n",
       "#T_2fde3_row0_col0,#T_2fde3_row1_col0,#T_2fde3_row2_col0,#T_2fde3_row3_col0{\n",
       "            text-align:  left;\n",
       "            border:  1px solid black;\n",
       "            font-family:  Cambria;\n",
       "        }#T_2fde3_row0_col1,#T_2fde3_row1_col1,#T_2fde3_row2_col1,#T_2fde3_row3_col1{\n",
       "            text-align:  center;\n",
       "            border:  1px solid black;\n",
       "            font-family:  Cambria;\n",
       "        }</style><table id=\"T_2fde3_\" ><caption>Frequency Table</caption><thead>    <tr>        <th class=\"col_heading level0 col0\" >City</th>        <th class=\"col_heading level0 col1\" >Frequency</th>    </tr></thead><tbody>\n",
       "                <tr>\n",
       "                                <td id=\"T_2fde3_row0_col0\" class=\"data row0 col0\" >Yangon</td>\n",
       "                        <td id=\"T_2fde3_row0_col1\" class=\"data row0 col1\" >340</td>\n",
       "            </tr>\n",
       "            <tr>\n",
       "                                <td id=\"T_2fde3_row1_col0\" class=\"data row1 col0\" >Mandalay</td>\n",
       "                        <td id=\"T_2fde3_row1_col1\" class=\"data row1 col1\" >332</td>\n",
       "            </tr>\n",
       "            <tr>\n",
       "                                <td id=\"T_2fde3_row2_col0\" class=\"data row2 col0\" >Naypyitaw</td>\n",
       "                        <td id=\"T_2fde3_row2_col1\" class=\"data row2 col1\" >328</td>\n",
       "            </tr>\n",
       "            <tr>\n",
       "                                <td id=\"T_2fde3_row3_col0\" class=\"data row3 col0\" >Total</td>\n",
       "                        <td id=\"T_2fde3_row3_col1\" class=\"data row3 col1\" >1000</td>\n",
       "            </tr>\n",
       "    </tbody></table>"
      ],
      "text/plain": [
       "<pandas.io.formats.style.Styler at 0x19e999c6e48>"
      ]
     },
     "execution_count": 22,
     "metadata": {},
     "output_type": "execute_result"
    }
   ],
   "source": [
    "# create a table of City counts\n",
    "city_table = df_cleaned['City'].value_counts()\n",
    "\n",
    "freq_table = df['City'].value_counts().reset_index()\n",
    "freq_table.columns = ['City', 'Frequency']\n",
    "\n",
    "# append a total row\n",
    "freq_table.loc['Total'] = ['Total', freq_table['Frequency'].sum()]\n",
    "\n",
    "freq_table = freq_table.style\\\n",
    "    .set_properties(subset=['Frequency'], **{'text-align': 'center', 'border': '1px solid black', 'font-family': 'Cambria'})\\\n",
    "    .set_properties(subset=['City'], **{'text-align': 'left', 'border': '1px solid black', 'font-family': 'Cambria'})\\\n",
    "    .set_caption('Frequency Table')\\\n",
    "    .hide_index()\n",
    "\n",
    "freq_table"
   ]
  },
  {
   "cell_type": "markdown",
   "metadata": {
    "hidden": true
   },
   "source": [
    "**Notes segment**\n",
    "To get frequency we normally use the function .value_counts()\n",
    "Just remember that a variable or column was called like this df['City'] to refer to the column City\n",
    "and a dataset could be referred to any name from 'df' to 'df_cleaned' etc\n",
    "In our case we are calling our dataFrame df_cleaned to imply the new dataset after the cleaning process. Hope you recall where we\n",
    "did the cleaning and changed the dataset name. If we use 'df' the function will give result of the dirty dataset.\n",
    "\n",
    "In the code below 'city_table' is the new table we create after first running the frquency\n",
    "\n",
    "Second 'fre_table' is the table we get after reseting the index in the table (the index is the name of variable i.e City).\n",
    "\n",
    "The .loc is an inbuilt function that creates a new row called total which constitute of the summation.\n",
    "\n",
    "The .style\\ is the inbuilt functino that changes the properties and font of the frequency table"
   ]
  },
  {
   "cell_type": "markdown",
   "metadata": {
    "heading_collapsed": true,
    "hidden": true
   },
   "source": [
    "### b. Percentages to the Tables"
   ]
  },
  {
   "cell_type": "code",
   "execution_count": 25,
   "metadata": {
    "hidden": true,
    "scrolled": true
   },
   "outputs": [
    {
     "data": {
      "text/html": [
       "<style  type=\"text/css\" >\n",
       "#T_90510_row0_col0,#T_90510_row0_col1,#T_90510_row0_col2,#T_90510_row1_col0,#T_90510_row1_col1,#T_90510_row1_col2,#T_90510_row2_col0,#T_90510_row2_col1,#T_90510_row2_col2,#T_90510_row3_col0,#T_90510_row3_col1,#T_90510_row3_col2{\n",
       "            text-align:  center;\n",
       "            border:  1px solid black;\n",
       "            font-family:  Cambria;\n",
       "        }</style><table id=\"T_90510_\" ><caption>Frequency Table</caption><thead>    <tr>        <th class=\"col_heading level0 col0\" >City</th>        <th class=\"col_heading level0 col1\" >Frequency</th>        <th class=\"col_heading level0 col2\" >Percentage</th>    </tr></thead><tbody>\n",
       "                <tr>\n",
       "                                <td id=\"T_90510_row0_col0\" class=\"data row0 col0\" >Yangon</td>\n",
       "                        <td id=\"T_90510_row0_col1\" class=\"data row0 col1\" >340</td>\n",
       "                        <td id=\"T_90510_row0_col2\" class=\"data row0 col2\" >17.00%</td>\n",
       "            </tr>\n",
       "            <tr>\n",
       "                                <td id=\"T_90510_row1_col0\" class=\"data row1 col0\" >Mandalay</td>\n",
       "                        <td id=\"T_90510_row1_col1\" class=\"data row1 col1\" >332</td>\n",
       "                        <td id=\"T_90510_row1_col2\" class=\"data row1 col2\" >16.60%</td>\n",
       "            </tr>\n",
       "            <tr>\n",
       "                                <td id=\"T_90510_row2_col0\" class=\"data row2 col0\" >Naypyitaw</td>\n",
       "                        <td id=\"T_90510_row2_col1\" class=\"data row2 col1\" >328</td>\n",
       "                        <td id=\"T_90510_row2_col2\" class=\"data row2 col2\" >16.40%</td>\n",
       "            </tr>\n",
       "            <tr>\n",
       "                                <td id=\"T_90510_row3_col0\" class=\"data row3 col0\" >Total</td>\n",
       "                        <td id=\"T_90510_row3_col1\" class=\"data row3 col1\" >1000</td>\n",
       "                        <td id=\"T_90510_row3_col2\" class=\"data row3 col2\" >50.00%</td>\n",
       "            </tr>\n",
       "    </tbody></table>"
      ],
      "text/plain": [
       "<pandas.io.formats.style.Styler at 0x19e999aab08>"
      ]
     },
     "execution_count": 25,
     "metadata": {},
     "output_type": "execute_result"
    }
   ],
   "source": [
    "# create a table of City counts\n",
    "city_table = df_cleaned['City'].value_counts()\n",
    "\n",
    "freq_table = df['City'].value_counts().reset_index()\n",
    "freq_table.columns = ['City', 'Frequency']\n",
    "\n",
    "# append a total row\n",
    "freq_table.loc['Total'] = ['Total', freq_table['Frequency'].sum()]\n",
    "\n",
    "# add a percentage column\n",
    "freq_table['Percentage'] = freq_table['Frequency'] / freq_table['Frequency'].sum() * 100\n",
    "\n",
    "freq_table = freq_table.style\\\n",
    "    .format({'Frequency': '{:.0f}', 'Percentage': '{:.2f}%'})\\\n",
    "    .set_properties(subset=['Frequency'], **{'text-align': 'center', 'border': '1px solid black', 'font-family': 'Cambria'})\\\n",
    "    .set_properties(subset=['City'], **{'text-align': 'center', 'border': '1px solid black', 'font-family': 'Cambria'})\\\n",
    "    .set_properties(subset=['Percentage'], **{'text-align': 'center', 'border': '1px solid black', 'font-family': 'Cambria'})\\\n",
    "    .set_caption('Frequency Table')\\\n",
    "    .hide_index()\n",
    "\n",
    "freq_table"
   ]
  },
  {
   "cell_type": "markdown",
   "metadata": {
    "hidden": true
   },
   "source": [
    "**Notes segment**\n",
    "In the code above, the part of the code .format({'Frequency': '{:.0f}', 'Percentage': '{:.2f}%'}) specifies the format for the Frequency and Percentage columns in the frequency table.\n",
    "\n",
    "In particular, it uses the format() method to specify that the Frequency column should be formatted as a floating-point number with zero decimal places ({:.0f}), while the Percentage column should be formatted as a floating-point number with two decimal places followed by the percent sign ({:.2f}%).\n",
    "\n",
    "By including this part of the code, the Frequency and Percentage columns in the frequency table will be displayed with the specified formatting.\n",
    "\n",
    "The code format the frequency column as an integer and the percentage column as a float with two decimal places, and will align the percentage column to the right."
   ]
  },
  {
   "cell_type": "markdown",
   "metadata": {
    "heading_collapsed": true,
    "hidden": true
   },
   "source": [
    "### c. Visualization for one Variable"
   ]
  },
  {
   "cell_type": "markdown",
   "metadata": {
    "heading_collapsed": true,
    "hidden": true
   },
   "source": [
    "#### i. Example One"
   ]
  },
  {
   "cell_type": "code",
   "execution_count": 38,
   "metadata": {
    "hidden": true
   },
   "outputs": [
    {
     "data": {
      "image/png": "[encoded data removed]",
      "text/plain": [
       "<Figure size 432x288 with 1 Axes>"
      ]
     },
     "metadata": {
      "needs_background": "light"
     },
     "output_type": "display_data"
    }
   ],
   "source": [
    "\n",
    "# create a table of City counts and percentages\n",
    "city_table = df_cleaned['City'].value_counts(normalize=True) * 100\n",
    "city_table = city_table.reset_index()\n",
    "city_table.columns = ['City', 'Percentage']\n",
    "\n",
    "# create the bar chart\n",
    "plt.bar(city_table['City'], city_table['Percentage'], color='blue')\n",
    "plt.title('Percentage of Customers by City', fontname='Cambria', color='black', fontsize=14)\n",
    "plt.xlabel('City', fontname='Cambria', color='black', fontsize=12)\n",
    "plt.ylabel('Percentage', fontname='Cambria', color='black', fontsize=12)\n",
    "plt.show()"
   ]
  },
  {
   "cell_type": "markdown",
   "metadata": {
    "hidden": true
   },
   "source": [
    "* Notes segment\n",
    "\n",
    "**An Explanation of the Above Code**\n",
    "\n",
    "city_table = df['City'].value_counts(normalize=True) * 100 - This line creates a table of the percentage of customers by city. It first counts the number of customers in each city using the value_counts() method and then divides the counts by the total number of customers to get the percentage. The normalize=True argument tells value_counts() to return the counts as percentages, and the * 100 at the end converts the decimal percentages to whole numbers.\n",
    "\n",
    "city_table = city_table.reset_index() - This line resets the index of the city_table DataFrame. The value_counts() method returns a Series with the city names as the index, so resetting the index turns the Series into a DataFrame with a default integer index.\n",
    "\n",
    "city_table.columns = ['City', 'Percentage'] - This line renames the columns of the city_table DataFrame to \"City\" and \"Percentage\" for easier reading.\n",
    "\n",
    "plt.bar(city_table['City'], city_table['Percentage'], color='blue') - This line creates a bar chart of the percentage of customers by city. It uses the bar() function from the pyplot module of matplotlib to create the chart. The first argument is the x-axis values, which are the city names from the city_table DataFrame. The second argument is the y-axis values, which are the percentage values from the city_table DataFrame. The color argument sets the color of the bars to blue.\n",
    "\n",
    "plt.title('Percentage of Customers by City', fontname='Cambria',color='black',fontsize=14) - This line sets the title of the chart to \"Percentage of Customers by City\". The fontname argument sets the font to Cambria, the color argument sets the font color to black, and the fontsize argument sets the font size to 14.\n",
    "\n",
    "plt.xlabel('City', fontname='Cambria',color='black',fontsize=12) - This line sets the x-axis label to \"City\". The fontname argument sets the font to Cambria, the color argument sets the font color to black, and the fontsize argument sets the font size to 12.\n",
    "\n",
    "plt.ylabel('Percentage', fontname='Cambria',color='black',fontsize=12) - This line sets the y-axis label to \"Percentage\". The fontname argument sets the font to Cambria, the color argument sets the font color to black, and the fontsize argument sets the font size to 12.\n",
    "\n",
    "plt.show() - This line shows the plot in a new window."
   ]
  },
  {
   "cell_type": "markdown",
   "metadata": {
    "hidden": true
   },
   "source": [
    "#### ii. Example Two"
   ]
  },
  {
   "cell_type": "code",
   "execution_count": 42,
   "metadata": {
    "hidden": true,
    "scrolled": true
   },
   "outputs": [
    {
     "data": {
      "image/png": "[encoded data removed]",
      "text/plain": [
       "<Figure size 432x288 with 1 Axes>"
      ]
     },
     "metadata": {
      "needs_background": "light"
     },
     "output_type": "display_data"
    }
   ],
   "source": [
    "# create a table of Product_line counts and percentages\n",
    "product_table = df_cleaned['Product_line'].value_counts(normalize=True) * 100\n",
    "product_table = product_table.reset_index()\n",
    "product_table.columns = ['Product_line', 'Percentage']\n",
    "\n",
    "# create the horizontal bar chart\n",
    "plt.barh(product_table['Product_line'], product_table['Percentage'], color='blue')\n",
    "plt.title('Percentage of Customers by Product_line', fontname='Cambria', color='black', fontsize=14)\n",
    "plt.xlabel('Percentage', fontname='Cambria', color='black', fontsize=12)\n",
    "plt.ylabel('Product_line', fontname='Cambria', color='black', fontsize=12)\n",
    "plt.show()"
   ]
  },
  {
   "cell_type": "markdown",
   "metadata": {
    "hidden": true
   },
   "source": [
    "**Explanation to the Code**\n",
    "The only difference between this code and the first one is that this is horizontal.\n",
    "To flip the coordinates of the bar chart, we normally use barh instead of bar in the plt.bar function, which will create a horizontal bar chart.\n",
    "We flip the x axis in event long texts have been used in the variable index."
   ]
  },
  {
   "cell_type": "markdown",
   "metadata": {},
   "source": [
    "## II. Working With Two Variable"
   ]
  },
  {
   "cell_type": "markdown",
   "metadata": {
    "heading_collapsed": true
   },
   "source": [
    "### a. Frequency Tables"
   ]
  },
  {
   "cell_type": "code",
   "execution_count": 51,
   "metadata": {
    "hidden": true,
    "scrolled": true
   },
   "outputs": [
    {
     "data": {
      "text/html": [
       "<style  type=\"text/css\" >\n",
       "#T_84801_row0_col0,#T_84801_row1_col0,#T_84801_row2_col0,#T_84801_row3_col0,#T_84801_row4_col0,#T_84801_row5_col0{\n",
       "            text-align:  left;\n",
       "            border:  1px solid black;\n",
       "            font-family:  Cambria;\n",
       "        }#T_84801_row0_col1,#T_84801_row1_col1,#T_84801_row2_col1,#T_84801_row3_col1,#T_84801_row4_col1,#T_84801_row5_col1{\n",
       "            text-align:  center;\n",
       "            border:  1px solid black;\n",
       "            font-family:  Cambria;\n",
       "            precision:  2;\n",
       "            prefix:  $;\n",
       "        }</style><table id=\"T_84801_\" ><caption>Total Gross Income by Product Line</caption><thead>    <tr>        <th class=\"col_heading level0 col0\" >Product_line</th>        <th class=\"col_heading level0 col1\" >gross income</th>    </tr></thead><tbody>\n",
       "                <tr>\n",
       "                                <td id=\"T_84801_row0_col0\" class=\"data row0 col0\" >Electronic accessories</td>\n",
       "                        <td id=\"T_84801_row0_col1\" class=\"data row0 col1\" >2111.80</td>\n",
       "            </tr>\n",
       "            <tr>\n",
       "                                <td id=\"T_84801_row1_col0\" class=\"data row1 col0\" >Fashion accessories</td>\n",
       "                        <td id=\"T_84801_row1_col1\" class=\"data row1 col1\" >2329.27</td>\n",
       "            </tr>\n",
       "            <tr>\n",
       "                                <td id=\"T_84801_row2_col0\" class=\"data row2 col0\" >Food and beverages</td>\n",
       "                        <td id=\"T_84801_row2_col1\" class=\"data row2 col1\" >2252.08</td>\n",
       "            </tr>\n",
       "            <tr>\n",
       "                                <td id=\"T_84801_row3_col0\" class=\"data row3 col0\" >Health and beauty</td>\n",
       "                        <td id=\"T_84801_row3_col1\" class=\"data row3 col1\" >1976.10</td>\n",
       "            </tr>\n",
       "            <tr>\n",
       "                                <td id=\"T_84801_row4_col0\" class=\"data row4 col0\" >Home and lifestyle</td>\n",
       "                        <td id=\"T_84801_row4_col1\" class=\"data row4 col1\" >2132.71</td>\n",
       "            </tr>\n",
       "            <tr>\n",
       "                                <td id=\"T_84801_row5_col0\" class=\"data row5 col0\" >Sports and travel</td>\n",
       "                        <td id=\"T_84801_row5_col1\" class=\"data row5 col1\" >2317.32</td>\n",
       "            </tr>\n",
       "    </tbody></table>"
      ],
      "text/plain": [
       "<pandas.io.formats.style.Styler at 0x19e99a4a088>"
      ]
     },
     "execution_count": 51,
     "metadata": {},
     "output_type": "execute_result"
    }
   ],
   "source": [
    "# create a frequency table of gross income by product line\n",
    "income_table = df_cleaned.groupby('Product_line')['gross income'].sum().reset_index()\n",
    "\n",
    "# create a styled table\n",
    "income_table = income_table.style.set_caption('Total Gross Income by Product Line')\\\n",
    "    .format({'gross income': '{:.2f}'})\\\n",
    "    .set_properties(subset=['Product_line'], **{'text-align': 'left', 'border': '1px solid black', 'font-family': 'Cambria'})\\\n",
    "    .set_properties(subset=['gross income'], **{'text-align': 'center', 'border': '1px solid black', 'font-family': 'Cambria', 'precision': 2, 'prefix': '$'})\\\n",
    "    .hide_index()\n",
    "\n",
    "# display the table\n",
    "income_table"
   ]
  },
  {
   "cell_type": "markdown",
   "metadata": {
    "hidden": true
   },
   "source": [
    "** Explanation of the Code**\n",
    "\n",
    "* The first part which is a code for frequency table creates a frequency table of the total gross income for each product line by grouping the cleaned data frame (df_cleaned) by the Product_line column and then summing the gross income column within each group.\n",
    "\n",
    "* This is followed by creating a styled table which applies various styling to the frequency table created in the previous code block. It sets the caption of the table to \"Total Gross Income by Product Line\". It formats the gross income column to display with no decimal places. It sets the alignment, border, and font family for the Product_line column and the gross income column. It also specifies that the gross income column should be displayed with a dollar sign prefix and two decimal places of precision. Finally, it hides the index column (the column with the row numbers).\n",
    "\n",
    "* Then finally, we display the table to see a print of the frequency."
   ]
  },
  {
   "cell_type": "markdown",
   "metadata": {
    "heading_collapsed": true
   },
   "source": [
    "### b. Percentages to the Tables"
   ]
  },
  {
   "cell_type": "code",
   "execution_count": 59,
   "metadata": {
    "hidden": true,
    "scrolled": true
   },
   "outputs": [
    {
     "data": {
      "text/html": [
       "<style  type=\"text/css\" >\n",
       "#T_fa6d4_row0_col0,#T_fa6d4_row1_col0,#T_fa6d4_row2_col0,#T_fa6d4_row3_col0,#T_fa6d4_row4_col0,#T_fa6d4_row5_col0{\n",
       "            text-align:  left;\n",
       "            border:  1px solid black;\n",
       "            font-family:  Cambria;\n",
       "        }#T_fa6d4_row0_col1,#T_fa6d4_row0_col2,#T_fa6d4_row0_col3,#T_fa6d4_row1_col1,#T_fa6d4_row1_col2,#T_fa6d4_row1_col3,#T_fa6d4_row2_col1,#T_fa6d4_row2_col2,#T_fa6d4_row2_col3,#T_fa6d4_row3_col1,#T_fa6d4_row3_col2,#T_fa6d4_row3_col3,#T_fa6d4_row4_col1,#T_fa6d4_row4_col2,#T_fa6d4_row4_col3,#T_fa6d4_row5_col1,#T_fa6d4_row5_col2,#T_fa6d4_row5_col3{\n",
       "            text-align:  center;\n",
       "            border:  1px solid black;\n",
       "            font-family:  Cambria;\n",
       "        }</style><table id=\"T_fa6d4_\" ><caption>Total Gross Income and Count by Product Line</caption><thead>    <tr>        <th class=\"col_heading level0 col0\" >Product_line</th>        <th class=\"col_heading level0 col1\" >Total Gross Income</th>        <th class=\"col_heading level0 col2\" >Count</th>        <th class=\"col_heading level0 col3\" >Percentage</th>    </tr></thead><tbody>\n",
       "                <tr>\n",
       "                                <td id=\"T_fa6d4_row0_col0\" class=\"data row0 col0\" >Fashion accessories</td>\n",
       "                        <td id=\"T_fa6d4_row0_col1\" class=\"data row0 col1\" >$2,329</td>\n",
       "                        <td id=\"T_fa6d4_row0_col2\" class=\"data row0 col2\" >159</td>\n",
       "                        <td id=\"T_fa6d4_row0_col3\" class=\"data row0 col3\" >17.75%</td>\n",
       "            </tr>\n",
       "            <tr>\n",
       "                                <td id=\"T_fa6d4_row1_col0\" class=\"data row1 col0\" >Sports and travel</td>\n",
       "                        <td id=\"T_fa6d4_row1_col1\" class=\"data row1 col1\" >$2,317</td>\n",
       "                        <td id=\"T_fa6d4_row1_col2\" class=\"data row1 col2\" >148</td>\n",
       "                        <td id=\"T_fa6d4_row1_col3\" class=\"data row1 col3\" >17.66%</td>\n",
       "            </tr>\n",
       "            <tr>\n",
       "                                <td id=\"T_fa6d4_row2_col0\" class=\"data row2 col0\" >Food and beverages</td>\n",
       "                        <td id=\"T_fa6d4_row2_col1\" class=\"data row2 col1\" >$2,252</td>\n",
       "                        <td id=\"T_fa6d4_row2_col2\" class=\"data row2 col2\" >148</td>\n",
       "                        <td id=\"T_fa6d4_row2_col3\" class=\"data row2 col3\" >17.17%</td>\n",
       "            </tr>\n",
       "            <tr>\n",
       "                                <td id=\"T_fa6d4_row3_col0\" class=\"data row3 col0\" >Home and lifestyle</td>\n",
       "                        <td id=\"T_fa6d4_row3_col1\" class=\"data row3 col1\" >$2,133</td>\n",
       "                        <td id=\"T_fa6d4_row3_col2\" class=\"data row3 col2\" >131</td>\n",
       "                        <td id=\"T_fa6d4_row3_col3\" class=\"data row3 col3\" >16.26%</td>\n",
       "            </tr>\n",
       "            <tr>\n",
       "                                <td id=\"T_fa6d4_row4_col0\" class=\"data row4 col0\" >Electronic accessories</td>\n",
       "                        <td id=\"T_fa6d4_row4_col1\" class=\"data row4 col1\" >$2,112</td>\n",
       "                        <td id=\"T_fa6d4_row4_col2\" class=\"data row4 col2\" >140</td>\n",
       "                        <td id=\"T_fa6d4_row4_col3\" class=\"data row4 col3\" >16.10%</td>\n",
       "            </tr>\n",
       "            <tr>\n",
       "                                <td id=\"T_fa6d4_row5_col0\" class=\"data row5 col0\" >Health and beauty</td>\n",
       "                        <td id=\"T_fa6d4_row5_col1\" class=\"data row5 col1\" >$1,976</td>\n",
       "                        <td id=\"T_fa6d4_row5_col2\" class=\"data row5 col2\" >132</td>\n",
       "                        <td id=\"T_fa6d4_row5_col3\" class=\"data row5 col3\" >15.06%</td>\n",
       "            </tr>\n",
       "    </tbody></table>"
      ],
      "text/plain": [
       "<pandas.io.formats.style.Styler at 0x19e98333ec8>"
      ]
     },
     "execution_count": 59,
     "metadata": {},
     "output_type": "execute_result"
    }
   ],
   "source": [
    "# create a frequency table of gross income by product line\n",
    "income_table = df_cleaned.groupby('Product_line')['gross income'].agg(['sum', 'count']).reset_index()\n",
    "income_table.columns = ['Product_line', 'Total Gross Income', 'Count']\n",
    "\n",
    "# calculate the percentage column\n",
    "income_table['Percentage'] = income_table['Total Gross Income'] / income_table['Total Gross Income'].sum()* 100\n",
    "\n",
    "# sort by 'Total Gross Income' in descending order\n",
    "income_table = income_table.sort_values('Total Gross Income', ascending=False)\n",
    "\n",
    "# create a styled table\n",
    "income_table = income_table.style.set_caption('Total Gross Income and Count by Product Line') \\\n",
    "    .format({'Total Gross Income': '${:,.0f}', 'Percentage': '{:.2f}%'}) \\\n",
    "    .set_properties(subset=['Product_line'], **{'text-align': 'left', 'border': '1px solid black', 'font-family': 'Cambria'}) \\\n",
    "    .set_properties(subset=['Total Gross Income', 'Count', 'Percentage'], **{'text-align': 'center', 'border': '1px solid black', 'font-family': 'Cambria'}) \\\n",
    "    .hide_index()\n",
    "\n",
    "# display the table\n",
    "income_table"
   ]
  },
  {
   "cell_type": "markdown",
   "metadata": {},
   "source": [
    "### c. Visualization"
   ]
  },
  {
   "cell_type": "code",
   "execution_count": 63,
   "metadata": {
    "scrolled": false
   },
   "outputs": [
    {
     "data": {
      "image/png": "[encoded data removed]",
      "text/plain": [
       "<Figure size 432x288 with 1 Axes>"
      ]
     },
     "metadata": {
      "needs_background": "light"
     },
     "output_type": "display_data"
    }
   ],
   "source": [
    "# create a frequency table of gross income by product line\n",
    "income_table = df_cleaned.groupby('Product_line')['gross income'].agg(['sum', 'count']).reset_index()\n",
    "income_table.columns = ['Product_line', 'Total Gross Income', 'Count']\n",
    "\n",
    "# calculate the percentage column\n",
    "income_table['Percentage'] = income_table['Total Gross Income'] / income_table['Total Gross Income'].sum() * 100\n",
    "income_table = income_table.sort_values('Total Gross Income', ascending=False)\n",
    "\n",
    "# create a styled table\n",
    "income_table_styled = income_table.style.set_caption('Total Gross Income and Count by Product Line') \\\n",
    "    .format({'Total Gross Income': '${:,.0f}', 'Percentage': '{:.2f}%'}) \\\n",
    "    .set_properties(subset=['Product_line'], **{'text-align': 'left', 'border': '1px solid black', 'font-family': 'Cambria'}) \\\n",
    "    .set_properties(subset=['Total Gross Income', 'Count', 'Percentage'], **{'text-align': 'center', 'border': '1px solid black', 'font-family': 'Cambria'}) \\\n",
    "    .hide_index()\n",
    "\n",
    "# create the bar chart\n",
    "import matplotlib.pyplot as plt\n",
    "\n",
    "plt.barh(income_table['Product_line'], income_table['Total Gross Income'], color='blue')\n",
    "plt.title('Total Gross Income by Product Line', fontname='Cambria', color='black', fontsize=14)\n",
    "plt.xlabel('Product Line', fontname='Cambria', color='black', fontsize=12)\n",
    "plt.ylabel('Total Gross Income', fontname='Cambria', color='black', fontsize=12)\n",
    "#plt.xticks(rotation=45)\n",
    "plt.show()\n"
   ]
  }
 ],
 "metadata": {
  "kernelspec": {
   "display_name": "Python 3",
   "language": "python",
   "name": "python3"
  },
  "language_info": {
   "codemirror_mode": {
    "name": "ipython",
    "version": 3
   },
   "file_extension": ".py",
   "mimetype": "text/x-python",
   "name": "python",
   "nbconvert_exporter": "python",
   "pygments_lexer": "ipython3",
   "version": "3.7.10"
  }
 },
 "nbformat": 4,
 "nbformat_minor": 4
}
